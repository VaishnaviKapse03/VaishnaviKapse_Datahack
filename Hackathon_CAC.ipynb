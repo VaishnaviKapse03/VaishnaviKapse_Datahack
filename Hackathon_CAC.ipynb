{
 "cells": [
  {
   "cell_type": "code",
   "execution_count": 1,
   "id": "05653b83",
   "metadata": {},
   "outputs": [],
   "source": [
    "import pandas as pd\n",
    "import numpy as np\n",
    "from sklearn.model_selection import train_test_split, GridSearchCV\n",
    "from sklearn.preprocessing import StandardScaler, OneHotEncoder, OrdinalEncoder\n",
    "from sklearn.compose import ColumnTransformer\n",
    "from sklearn.pipeline import Pipeline\n",
    "from sklearn.impute import SimpleImputer\n",
    "from sklearn.ensemble import RandomForestClassifier\n",
    "from sklearn.linear_model import LogisticRegression\n",
    "from sklearn.metrics import roc_auc_score, roc_curve, precision_recall_curve"
   ]
  },
  {
   "cell_type": "code",
   "execution_count": 2,
   "id": "730912bb",
   "metadata": {},
   "outputs": [],
   "source": [
    "train_features = pd.read_csv(r'C:\\Users\\Vaishnavi\\Downloads\\dataset and all\\training_set_features.csv')\n",
    "train_labels = pd.read_csv(r'C:\\Users\\Vaishnavi\\Downloads\\dataset and all\\training_set_labels.csv')\n",
    "test_features = pd.read_csv(r'C:\\Users\\Vaishnavi\\Downloads\\dataset and all\\test_set_features.csv')"
   ]
  },
  {
   "cell_type": "code",
   "execution_count": 3,
   "id": "301b99a6",
   "metadata": {},
   "outputs": [],
   "source": [
    "train_data = pd.merge(train_features, train_labels, on='respondent_id')"
   ]
  },
  {
   "cell_type": "code",
   "execution_count": 4,
   "id": "a41bea6f",
   "metadata": {},
   "outputs": [],
   "source": [
    "X = train_data.drop(columns=['xyz_vaccine', 'seasonal_vaccine', 'respondent_id'])\n",
    "y_xyz = train_data['xyz_vaccine']\n",
    "y_seasonal = train_data['seasonal_vaccine']\n",
    "test_data = test_features.drop(columns=['respondent_id'])"
   ]
  },
  {
   "cell_type": "code",
   "execution_count": 5,
   "id": "b28c18a4",
   "metadata": {},
   "outputs": [],
   "source": [
    "categorical_features = X.select_dtypes(include=['object']).columns.tolist()\n",
    "numerical_features = X.select_dtypes(include=[np.number]).columns.tolist()\n"
   ]
  },
  {
   "cell_type": "code",
   "execution_count": 6,
   "id": "3e962d78",
   "metadata": {},
   "outputs": [],
   "source": [
    "categorical_transformer = Pipeline(steps=[\n",
    "    ('imputer', SimpleImputer(strategy='most_frequent')),\n",
    "    ('onehot', OneHotEncoder(handle_unknown='ignore'))\n",
    "])\n",
    "\n",
    "numerical_transformer = Pipeline(steps=[\n",
    "    ('imputer', SimpleImputer(strategy='mean')),\n",
    "    ('scaler', StandardScaler())\n",
    "])\n",
    "\n",
    "preprocessor = ColumnTransformer(\n",
    "    transformers=[\n",
    "        ('num', numerical_transformer, numerical_features),\n",
    "        ('cat', categorical_transformer, categorical_features)\n",
    "    ])\n"
   ]
  },
  {
   "cell_type": "code",
   "execution_count": 7,
   "id": "3729541d",
   "metadata": {},
   "outputs": [],
   "source": [
    "model = Pipeline(steps=[\n",
    "    ('preprocessor', preprocessor),\n",
    "    ('classifier', RandomForestClassifier())\n",
    "])\n",
    "\n"
   ]
  },
  {
   "cell_type": "code",
   "execution_count": 8,
   "id": "1640eda4",
   "metadata": {},
   "outputs": [],
   "source": [
    "X_train, X_val, y_train_xyz, y_val_xyz, y_train_seasonal, y_val_seasonal = train_test_split(X, y_xyz, y_seasonal, test_size=0.2, random_state=42)\n"
   ]
  },
  {
   "cell_type": "code",
   "execution_count": 9,
   "id": "60bab56a",
   "metadata": {},
   "outputs": [
    {
     "name": "stdout",
     "output_type": "stream",
     "text": [
      "ROC AUC for xyz_vaccine: 0.8570717671381387\n"
     ]
    }
   ],
   "source": [
    "model.fit(X_train, y_train_xyz)\n",
    "y_pred_xyz = model.predict_proba(X_val)[:, 1]\n",
    "roc_auc_xyz = roc_auc_score(y_val_xyz, y_pred_xyz)\n",
    "\n",
    "print(f'ROC AUC for xyz_vaccine: {roc_auc_xyz}')\n"
   ]
  },
  {
   "cell_type": "code",
   "execution_count": 10,
   "id": "2eacc324",
   "metadata": {},
   "outputs": [
    {
     "name": "stdout",
     "output_type": "stream",
     "text": [
      "ROC AUC for seasonal_vaccine: 0.8551275706017112\n"
     ]
    }
   ],
   "source": [
    "model.fit(X_train, y_train_seasonal)\n",
    "y_pred_seasonal = model.predict_proba(X_val)[:, 1]\n",
    "roc_auc_seasonal = roc_auc_score(y_val_seasonal, y_pred_seasonal)\n",
    "\n",
    "print(f'ROC AUC for seasonal_vaccine: {roc_auc_seasonal}')\n"
   ]
  },
  {
   "cell_type": "code",
   "execution_count": 11,
   "id": "bcf29309",
   "metadata": {},
   "outputs": [],
   "source": [
    "model.fit(X, y_xyz)\n",
    "test_pred_xyz = model.predict_proba(test_data)[:, 1]\n",
    "\n",
    "model.fit(X, y_seasonal)\n",
    "test_pred_seasonal = model.predict_proba(test_data)[:, 1]\n"
   ]
  },
  {
   "cell_type": "code",
   "execution_count": 12,
   "id": "ee09dcc1",
   "metadata": {},
   "outputs": [],
   "source": [
    "submission = pd.DataFrame({\n",
    "    'respondent_id': test_features['respondent_id'],\n",
    "    'xyz_vaccine': test_pred_xyz,\n",
    "    'seasonal_vaccine': test_pred_seasonal\n",
    "})\n",
    "\n",
    "submission.to_csv('submission.csv',index=False)"
   ]
  },
  {
   "cell_type": "code",
   "execution_count": null,
   "id": "4479aa5f",
   "metadata": {},
   "outputs": [],
   "source": []
  }
 ],
 "metadata": {
  "kernelspec": {
   "display_name": "Python 3 (ipykernel)",
   "language": "python",
   "name": "python3"
  },
  "language_info": {
   "codemirror_mode": {
    "name": "ipython",
    "version": 3
   },
   "file_extension": ".py",
   "mimetype": "text/x-python",
   "name": "python",
   "nbconvert_exporter": "python",
   "pygments_lexer": "ipython3",
   "version": "3.11.5"
  }
 },
 "nbformat": 4,
 "nbformat_minor": 5
}
